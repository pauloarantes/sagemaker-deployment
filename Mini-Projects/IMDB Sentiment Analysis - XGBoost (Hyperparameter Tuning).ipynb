{
 "cells": [
  {
   "cell_type": "markdown",
   "metadata": {},
   "source": [
    "# Sentiment Analysis\n",
    "\n",
    "## Using XGBoost in SageMaker\n",
    "\n",
    "_Deep Learning Nanodegree Program | Deployment_\n",
    "\n",
    "---\n",
    "\n",
    "In this example of using Amazon's SageMaker service we will construct a random tree model to predict the sentiment of a movie review. You may have seen a version of this example in a pervious lesson although it would have been done using the sklearn package. Instead, we will be using the XGBoost package as it is provided to us by Amazon.\n",
    "\n",
    "## Instructions\n",
    "\n",
    "Some template code has already been provided for you, and you will need to implement additional functionality to successfully complete this notebook. You will not need to modify the included code beyond what is requested. Sections that begin with '**TODO**' in the header indicate that you need to complete or implement some portion within them. Instructions will be provided for each section and the specifics of the implementation are marked in the code block with a `# TODO: ...` comment. Please be sure to read the instructions carefully!\n",
    "\n",
    "In addition to implementing code, there will be questions for you to answer which relate to the task and your implementation. Each section where you will answer a question is preceded by a '**Question:**' header. Carefully read each question and provide your answer below the '**Answer:**' header by editing the Markdown cell.\n",
    "\n",
    "> **Note**: Code and Markdown cells can be executed using the **Shift+Enter** keyboard shortcut. In addition, a cell can be edited by typically clicking it (double-click for Markdown cells) or by pressing **Enter** while it is highlighted."
   ]
  },
  {
   "cell_type": "markdown",
   "metadata": {},
   "source": [
    "## Step 1: Downloading the data\n",
    "\n",
    "The dataset we are going to use is very popular among researchers in Natural Language Processing, usually referred to as the [IMDb dataset](http://ai.stanford.edu/~amaas/data/sentiment/). It consists of movie reviews from the website [imdb.com](http://www.imdb.com/), each labeled as either '**pos**itive', if the reviewer enjoyed the film, or '**neg**ative' otherwise.\n",
    "\n",
    "> Maas, Andrew L., et al. [Learning Word Vectors for Sentiment Analysis](http://ai.stanford.edu/~amaas/data/sentiment/). In _Proceedings of the 49th Annual Meeting of the Association for Computational Linguistics: Human Language Technologies_. Association for Computational Linguistics, 2011.\n",
    "\n",
    "We begin by using some Jupyter Notebook magic to download and extract the dataset."
   ]
  },
  {
   "cell_type": "code",
   "execution_count": 1,
   "metadata": {},
   "outputs": [
    {
     "name": "stdout",
     "output_type": "stream",
     "text": [
      "mkdir: cannot create directory ‘../data’: File exists\n",
      "--2019-10-15 21:21:53--  http://ai.stanford.edu/~amaas/data/sentiment/aclImdb_v1.tar.gz\n",
      "Resolving ai.stanford.edu (ai.stanford.edu)... 171.64.68.10\n",
      "Connecting to ai.stanford.edu (ai.stanford.edu)|171.64.68.10|:80... connected.\n",
      "HTTP request sent, awaiting response... 200 OK\n",
      "Length: 84125825 (80M) [application/x-gzip]\n",
      "Saving to: ‘../data/aclImdb_v1.tar.gz’\n",
      "\n",
      "../data/aclImdb_v1. 100%[===================>]  80.23M  23.0MB/s    in 4.9s    \n",
      "\n",
      "2019-10-15 21:21:58 (16.4 MB/s) - ‘../data/aclImdb_v1.tar.gz’ saved [84125825/84125825]\n",
      "\n"
     ]
    }
   ],
   "source": [
    "%mkdir ../data\n",
    "!wget -O ../data/aclImdb_v1.tar.gz http://ai.stanford.edu/~amaas/data/sentiment/aclImdb_v1.tar.gz\n",
    "!tar -zxf ../data/aclImdb_v1.tar.gz -C ../data"
   ]
  },
  {
   "cell_type": "markdown",
   "metadata": {},
   "source": [
    "## Step 2: Preparing the data\n",
    "\n",
    "The data we have downloaded is split into various files, each of which contains a single review. It will be much easier going forward if we combine these individual files into two large files, one for training and one for testing."
   ]
  },
  {
   "cell_type": "code",
   "execution_count": 2,
   "metadata": {},
   "outputs": [],
   "source": [
    "import os\n",
    "import glob\n",
    "\n",
    "def read_imdb_data(data_dir='../data/aclImdb'):\n",
    "    data = {}\n",
    "    labels = {}\n",
    "    \n",
    "    for data_type in ['train', 'test']:\n",
    "        data[data_type] = {}\n",
    "        labels[data_type] = {}\n",
    "        \n",
    "        for sentiment in ['pos', 'neg']:\n",
    "            data[data_type][sentiment] = []\n",
    "            labels[data_type][sentiment] = []\n",
    "            \n",
    "            path = os.path.join(data_dir, data_type, sentiment, '*.txt')\n",
    "            files = glob.glob(path)\n",
    "            \n",
    "            for f in files:\n",
    "                with open(f) as review:\n",
    "                    data[data_type][sentiment].append(review.read())\n",
    "                    # Here we represent a positive review by '1' and a negative review by '0'\n",
    "                    labels[data_type][sentiment].append(1 if sentiment == 'pos' else 0)\n",
    "                    \n",
    "            assert len(data[data_type][sentiment]) == len(labels[data_type][sentiment]), \\\n",
    "                    \"{}/{} data size does not match labels size\".format(data_type, sentiment)\n",
    "                \n",
    "    return data, labels"
   ]
  },
  {
   "cell_type": "code",
   "execution_count": 3,
   "metadata": {},
   "outputs": [
    {
     "name": "stdout",
     "output_type": "stream",
     "text": [
      "IMDB reviews: train = 12500 pos / 12500 neg, test = 12500 pos / 12500 neg\n"
     ]
    }
   ],
   "source": [
    "data, labels = read_imdb_data()\n",
    "print(\"IMDB reviews: train = {} pos / {} neg, test = {} pos / {} neg\".format(\n",
    "            len(data['train']['pos']), len(data['train']['neg']),\n",
    "            len(data['test']['pos']), len(data['test']['neg'])))"
   ]
  },
  {
   "cell_type": "code",
   "execution_count": 4,
   "metadata": {},
   "outputs": [],
   "source": [
    "from sklearn.utils import shuffle\n",
    "\n",
    "def prepare_imdb_data(data, labels):\n",
    "    \"\"\"Prepare training and test sets from IMDb movie reviews.\"\"\"\n",
    "    \n",
    "    #Combine positive and negative reviews and labels\n",
    "    data_train = data['train']['pos'] + data['train']['neg']\n",
    "    data_test = data['test']['pos'] + data['test']['neg']\n",
    "    labels_train = labels['train']['pos'] + labels['train']['neg']\n",
    "    labels_test = labels['test']['pos'] + labels['test']['neg']\n",
    "    \n",
    "    #Shuffle reviews and corresponding labels within training and test sets\n",
    "    data_train, labels_train = shuffle(data_train, labels_train)\n",
    "    data_test, labels_test = shuffle(data_test, labels_test)\n",
    "    \n",
    "    # Return a unified training data, test data, training labels, test labets\n",
    "    return data_train, data_test, labels_train, labels_test"
   ]
  },
  {
   "cell_type": "code",
   "execution_count": 5,
   "metadata": {},
   "outputs": [
    {
     "name": "stdout",
     "output_type": "stream",
     "text": [
      "IMDb reviews (combined): train = 25000, test = 25000\n"
     ]
    }
   ],
   "source": [
    "train_X, test_X, train_y, test_y = prepare_imdb_data(data, labels)\n",
    "print(\"IMDb reviews (combined): train = {}, test = {}\".format(len(train_X), len(test_X)))"
   ]
  },
  {
   "cell_type": "code",
   "execution_count": 6,
   "metadata": {},
   "outputs": [
    {
     "data": {
      "text/plain": [
       "'\"A death at a college campus appears to be a suicide but is actually a cover for murder. The dead man\\'s roommate finds himself embroiled in a mystery as he tries to uncover the truth behind the young man\\'s murder. Twists and turns, as well as some false leads, makes this a tough case for our collegiate hero to solve, let alone (keep) out of the clutches of the killer,\" according to the DVD sleeve\\'s synopsis.<br /><br />The stars may be bigger than the movie. Handsome Charles Starrett (as Ken Harris), who has a small \"lingerie\" scene, became one of the top western stars of the forties, peaking in \"The Return of the Durango Kid\" (1945). The man playing his father, Robert Warwick (as Joseph Harris), was one of the most respected actors of the teens, beginning with his performance in \"Alias Jimmy Valentine\" (1915). Watch out for red herrings. <br /><br />**** A Shot in the Dark (2/1/35) Charles Lamont ~ Charles Starrett, Robert Warwick, James Bush'"
      ]
     },
     "execution_count": 6,
     "metadata": {},
     "output_type": "execute_result"
    }
   ],
   "source": [
    "train_X[100]"
   ]
  },
  {
   "cell_type": "markdown",
   "metadata": {},
   "source": [
    "## Step 3: Processing the data\n",
    "\n",
    "Now that we have our training and testing datasets merged and ready to use, we need to start processing the raw data into something that will be useable by our machine learning algorithm. To begin with, we remove any html formatting that may appear in the reviews and perform some standard natural language processing in order to homogenize the data."
   ]
  },
  {
   "cell_type": "code",
   "execution_count": 7,
   "metadata": {},
   "outputs": [
    {
     "name": "stdout",
     "output_type": "stream",
     "text": [
      "[nltk_data] Downloading package stopwords to\n",
      "[nltk_data]     /home/ec2-user/nltk_data...\n",
      "[nltk_data]   Unzipping corpora/stopwords.zip.\n"
     ]
    }
   ],
   "source": [
    "import nltk\n",
    "nltk.download(\"stopwords\")\n",
    "from nltk.corpus import stopwords\n",
    "from nltk.stem.porter import *\n",
    "stemmer = PorterStemmer()"
   ]
  },
  {
   "cell_type": "code",
   "execution_count": 8,
   "metadata": {},
   "outputs": [],
   "source": [
    "import re\n",
    "from bs4 import BeautifulSoup\n",
    "\n",
    "def review_to_words(review):\n",
    "    text = BeautifulSoup(review, \"html.parser\").get_text() # Remove HTML tags\n",
    "    text = re.sub(r\"[^a-zA-Z0-9]\", \" \", text.lower()) # Convert to lower case\n",
    "    words = text.split() # Split string into words\n",
    "    words = [w for w in words if w not in stopwords.words(\"english\")] # Remove stopwords\n",
    "    words = [PorterStemmer().stem(w) for w in words] # stem\n",
    "    \n",
    "    return words"
   ]
  },
  {
   "cell_type": "code",
   "execution_count": 9,
   "metadata": {},
   "outputs": [],
   "source": [
    "import pickle\n",
    "\n",
    "cache_dir = os.path.join(\"../cache\", \"sentiment_analysis\")  # where to store cache files\n",
    "os.makedirs(cache_dir, exist_ok=True)  # ensure cache directory exists\n",
    "\n",
    "def preprocess_data(data_train, data_test, labels_train, labels_test,\n",
    "                    cache_dir=cache_dir, cache_file=\"preprocessed_data.pkl\"):\n",
    "    \"\"\"Convert each review to words; read from cache if available.\"\"\"\n",
    "\n",
    "    # If cache_file is not None, try to read from it first\n",
    "    cache_data = None\n",
    "    if cache_file is not None:\n",
    "        try:\n",
    "            with open(os.path.join(cache_dir, cache_file), \"rb\") as f:\n",
    "                cache_data = pickle.load(f)\n",
    "            print(\"Read preprocessed data from cache file:\", cache_file)\n",
    "        except:\n",
    "            pass  # unable to read from cache, but that's okay\n",
    "    \n",
    "    # If cache is missing, then do the heavy lifting\n",
    "    if cache_data is None:\n",
    "        # Preprocess training and test data to obtain words for each review\n",
    "        #words_train = list(map(review_to_words, data_train))\n",
    "        #words_test = list(map(review_to_words, data_test))\n",
    "        words_train = [review_to_words(review) for review in data_train]\n",
    "        words_test = [review_to_words(review) for review in data_test]\n",
    "        \n",
    "        # Write to cache file for future runs\n",
    "        if cache_file is not None:\n",
    "            cache_data = dict(words_train=words_train, words_test=words_test,\n",
    "                              labels_train=labels_train, labels_test=labels_test)\n",
    "            with open(os.path.join(cache_dir, cache_file), \"wb\") as f:\n",
    "                pickle.dump(cache_data, f)\n",
    "            print(\"Wrote preprocessed data to cache file:\", cache_file)\n",
    "    else:\n",
    "        # Unpack data loaded from cache file\n",
    "        words_train, words_test, labels_train, labels_test = (cache_data['words_train'],\n",
    "                cache_data['words_test'], cache_data['labels_train'], cache_data['labels_test'])\n",
    "    \n",
    "    return words_train, words_test, labels_train, labels_test"
   ]
  },
  {
   "cell_type": "code",
   "execution_count": 10,
   "metadata": {},
   "outputs": [
    {
     "name": "stdout",
     "output_type": "stream",
     "text": [
      "Wrote preprocessed data to cache file: preprocessed_data.pkl\n"
     ]
    }
   ],
   "source": [
    "# Preprocess data\n",
    "train_X, test_X, train_y, test_y = preprocess_data(train_X, test_X, train_y, test_y)"
   ]
  },
  {
   "cell_type": "markdown",
   "metadata": {},
   "source": [
    "### Extract Bag-of-Words features\n",
    "\n",
    "For the model we will be implementing, rather than using the reviews directly, we are going to transform each review into a Bag-of-Words feature representation. Keep in mind that 'in the wild' we will only have access to the training set so our transformer can only use the training set to construct a representation."
   ]
  },
  {
   "cell_type": "code",
   "execution_count": 11,
   "metadata": {},
   "outputs": [],
   "source": [
    "import numpy as np\n",
    "from sklearn.feature_extraction.text import CountVectorizer\n",
    "from sklearn.externals import joblib\n",
    "# joblib is an enhanced version of pickle that is more efficient for storing NumPy arrays\n",
    "\n",
    "def extract_BoW_features(words_train, words_test, vocabulary_size=5000,\n",
    "                         cache_dir=cache_dir, cache_file=\"bow_features.pkl\"):\n",
    "    \"\"\"Extract Bag-of-Words for a given set of documents, already preprocessed into words.\"\"\"\n",
    "    \n",
    "    # If cache_file is not None, try to read from it first\n",
    "    cache_data = None\n",
    "    if cache_file is not None:\n",
    "        try:\n",
    "            with open(os.path.join(cache_dir, cache_file), \"rb\") as f:\n",
    "                cache_data = joblib.load(f)\n",
    "            print(\"Read features from cache file:\", cache_file)\n",
    "        except:\n",
    "            pass  # unable to read from cache, but that's okay\n",
    "    \n",
    "    # If cache is missing, then do the heavy lifting\n",
    "    if cache_data is None:\n",
    "        # Fit a vectorizer to training documents and use it to transform them\n",
    "        # NOTE: Training documents have already been preprocessed and tokenized into words;\n",
    "        #       pass in dummy functions to skip those steps, e.g. preprocessor=lambda x: x\n",
    "        vectorizer = CountVectorizer(max_features=vocabulary_size,\n",
    "                preprocessor=lambda x: x, tokenizer=lambda x: x)  # already preprocessed\n",
    "        features_train = vectorizer.fit_transform(words_train).toarray()\n",
    "\n",
    "        # Apply the same vectorizer to transform the test documents (ignore unknown words)\n",
    "        features_test = vectorizer.transform(words_test).toarray()\n",
    "        \n",
    "        # NOTE: Remember to convert the features using .toarray() for a compact representation\n",
    "        \n",
    "        # Write to cache file for future runs (store vocabulary as well)\n",
    "        if cache_file is not None:\n",
    "            vocabulary = vectorizer.vocabulary_\n",
    "            cache_data = dict(features_train=features_train, features_test=features_test,\n",
    "                             vocabulary=vocabulary)\n",
    "            with open(os.path.join(cache_dir, cache_file), \"wb\") as f:\n",
    "                joblib.dump(cache_data, f)\n",
    "            print(\"Wrote features to cache file:\", cache_file)\n",
    "    else:\n",
    "        # Unpack data loaded from cache file\n",
    "        features_train, features_test, vocabulary = (cache_data['features_train'],\n",
    "                cache_data['features_test'], cache_data['vocabulary'])\n",
    "    \n",
    "    # Return both the extracted features as well as the vocabulary\n",
    "    return features_train, features_test, vocabulary"
   ]
  },
  {
   "cell_type": "code",
   "execution_count": 12,
   "metadata": {},
   "outputs": [
    {
     "name": "stdout",
     "output_type": "stream",
     "text": [
      "Wrote features to cache file: bow_features.pkl\n"
     ]
    }
   ],
   "source": [
    "# Extract Bag of Words features for both training and test datasets\n",
    "train_X, test_X, vocabulary = extract_BoW_features(train_X, test_X)"
   ]
  },
  {
   "cell_type": "markdown",
   "metadata": {},
   "source": [
    "## Step 4: Classification using XGBoost\n",
    "\n",
    "Now that we have created the feature representation of our training (and testing) data, it is time to start setting up and using the XGBoost classifier provided by SageMaker.\n",
    "\n",
    "### Writing the dataset\n",
    "\n",
    "The XGBoost classifier that we will be using requires the dataset to be written to a file and stored using Amazon S3. To do this, we will start by splitting the training dataset into two parts, the data we will train the model with and a validation set. Then, we will write those datasets to a file and upload the files to S3. In addition, we will write the test set input to a file and upload the file to S3. This is so that we can use SageMakers Batch Transform functionality to test our model once we've fit it."
   ]
  },
  {
   "cell_type": "code",
   "execution_count": 13,
   "metadata": {},
   "outputs": [],
   "source": [
    "import pandas as pd\n",
    "\n",
    "val_X = pd.DataFrame(train_X[:10000])\n",
    "train_X = pd.DataFrame(train_X[10000:])\n",
    "\n",
    "val_y = pd.DataFrame(train_y[:10000])\n",
    "train_y = pd.DataFrame(train_y[10000:])\n",
    "\n",
    "test_y = pd.DataFrame(test_y)\n",
    "test_X = pd.DataFrame(test_X)"
   ]
  },
  {
   "cell_type": "markdown",
   "metadata": {},
   "source": [
    "The documentation for the XGBoost algorithm in SageMaker requires that the saved datasets should contain no headers or index and that for the training and validation data, the label should occur first for each sample.\n",
    "\n",
    "For more information about this and other algorithms, the SageMaker developer documentation can be found on __[Amazon's website.](https://docs.aws.amazon.com/sagemaker/latest/dg/)__"
   ]
  },
  {
   "cell_type": "code",
   "execution_count": 14,
   "metadata": {},
   "outputs": [],
   "source": [
    "# First we make sure that the local directory in which we'd like to store the training and validation csv files exists.\n",
    "data_dir = '../data/xgboost'\n",
    "if not os.path.exists(data_dir):\n",
    "    os.makedirs(data_dir)"
   ]
  },
  {
   "cell_type": "code",
   "execution_count": 40,
   "metadata": {},
   "outputs": [],
   "source": [
    "# First, save the test data to test.csv in the data_dir directory. Note that we do not save the associated ground truth\n",
    "# labels, instead we will use them later to compare with our model output.\n",
    "\n",
    "# pd.concat([test_y, test_X], axis=1).to_csv(os.path.join(data_dir, 'test.csv'), header=False, index=False)\n",
    "pd.DataFrame(test_X).to_csv(os.path.join(data_dir, 'test.csv'), header=False, index=False)\n",
    "pd.concat([val_y, val_X], axis=1).to_csv(os.path.join(data_dir, 'validation.csv'), header=False, index=False)\n",
    "pd.concat([train_y, train_X], axis=1).to_csv(os.path.join(data_dir, 'train.csv'), header=False, index=False)"
   ]
  },
  {
   "cell_type": "code",
   "execution_count": 16,
   "metadata": {},
   "outputs": [],
   "source": [
    "# To save a bit of memory we can set text_X, train_X, val_X, train_y and val_y to None.\n",
    "\n",
    "train_X = val_X = train_y = val_y = None"
   ]
  },
  {
   "cell_type": "markdown",
   "metadata": {},
   "source": [
    "### Uploading Training / Validation files to S3\n",
    "\n",
    "Amazon's S3 service allows us to store files that can be access by both the built-in training models such as the XGBoost model we will be using as well as custom models such as the one we will see a little later.\n",
    "\n",
    "For this, and most other tasks we will be doing using SageMaker, there are two methods we could use. The first is to use the low level functionality of SageMaker which requires knowing each of the objects involved in the SageMaker environment. The second is to use the high level functionality in which certain choices have been made on the user's behalf. The low level approach benefits from allowing the user a great deal of flexibility while the high level approach makes development much quicker. For our purposes we will opt to use the high level approach although using the low-level approach is certainly an option.\n",
    "\n",
    "Recall the method `upload_data()` which is a member of object representing our current SageMaker session. What this method does is upload the data to the default bucket (which is created if it does not exist) into the path described by the key_prefix variable. To see this for yourself, once you have uploaded the data files, go to the S3 console and look to see where the files have been uploaded.\n",
    "\n",
    "For additional resources, see the __[SageMaker API documentation](http://sagemaker.readthedocs.io/en/latest/)__ and in addition the __[SageMaker Developer Guide.](https://docs.aws.amazon.com/sagemaker/latest/dg/)__"
   ]
  },
  {
   "cell_type": "code",
   "execution_count": 41,
   "metadata": {},
   "outputs": [],
   "source": [
    "import sagemaker\n",
    "\n",
    "session = sagemaker.Session() # Store the current SageMaker session\n",
    "\n",
    "# S3 prefix (which folder will we use)\n",
    "prefix = 'sentiment-xgboost'\n",
    "\n",
    "test_location = session.upload_data(os.path.join(data_dir, 'test.csv'), key_prefix=prefix)\n",
    "val_location = session.upload_data(os.path.join(data_dir, 'validation.csv'), key_prefix=prefix)\n",
    "train_location = session.upload_data(os.path.join(data_dir, 'train.csv'), key_prefix=prefix)"
   ]
  },
  {
   "cell_type": "markdown",
   "metadata": {},
   "source": [
    "### (TODO) Creating a hypertuned XGBoost model\n",
    "\n",
    "Now that the data has been uploaded it is time to create the XGBoost model. As in the Boston Housing notebook, the first step is to create an estimator object which will be used as the *base* of your hyperparameter tuning job."
   ]
  },
  {
   "cell_type": "code",
   "execution_count": 18,
   "metadata": {},
   "outputs": [],
   "source": [
    "from sagemaker import get_execution_role\n",
    "\n",
    "# Our current execution role is require when creating the model as the training\n",
    "# and inference code will need to access the model artifacts.\n",
    "role = get_execution_role()"
   ]
  },
  {
   "cell_type": "code",
   "execution_count": 19,
   "metadata": {},
   "outputs": [
    {
     "name": "stderr",
     "output_type": "stream",
     "text": [
      "WARNING:root:There is a more up to date SageMaker XGBoost image.To use the newer image, please set 'repo_version'='0.90-1. For example:\n",
      "\tget_image_uri(region, 'xgboost', '0.90-1').\n"
     ]
    }
   ],
   "source": [
    "# We need to retrieve the location of the container which is provided by Amazon for using XGBoost.\n",
    "# As a matter of convenience, the training and inference code both use the same container.\n",
    "from sagemaker.amazon.amazon_estimator import get_image_uri\n",
    "\n",
    "container = get_image_uri(session.boto_region_name, 'xgboost')"
   ]
  },
  {
   "cell_type": "code",
   "execution_count": 20,
   "metadata": {},
   "outputs": [],
   "source": [
    "# TODO: Create a SageMaker estimator using the container location determined in the previous cell.\n",
    "#       It is recommended that you use a single training instance of type ml.m4.xlarge. It is also\n",
    "#       recommended that you use 's3://{}/{}/output'.format(session.default_bucket(), prefix) as the\n",
    "#       output path.\n",
    "\n",
    "xgb = sagemaker.estimator.Estimator(\n",
    "    image_name=container,\n",
    "    role=role,\n",
    "    train_instance_count=1,\n",
    "    train_instance_type=\"ml.m4.xlarge\",\n",
    "    output_path=\"s3://{}/{}/output\".format(session.default_bucket(), prefix),\n",
    "    sagemaker_session=session\n",
    ")\n",
    "\n",
    "# TODO: Set the XGBoost hyperparameters in the xgb object. Don't forget that in this case we have a binary\n",
    "#       label so we should be using the 'binary:logistic' objective.\n",
    "\n",
    "xgb.set_hyperparameters(\n",
    "    max_depth=5,\n",
    "    eta=0.2,\n",
    "    gamma=4,\n",
    "    min_child_weight=6,\n",
    "    subsample=0.8,\n",
    "    objective='binary:logistic',\n",
    "    early_stopping_rounds=10,\n",
    "    num_round=200\n",
    ")"
   ]
  },
  {
   "cell_type": "markdown",
   "metadata": {},
   "source": [
    "### (TODO) Create the hyperparameter tuner\n",
    "\n",
    "Now that the base estimator has been set up we need to construct a hyperparameter tuner object which we will use to request SageMaker construct a hyperparameter tuning job.\n",
    "\n",
    "**Note:** Training a single sentiment analysis XGBoost model takes longer than training a Boston Housing XGBoost model so if you don't want the hyperparameter tuning job to take too long, make sure to not set the total number of models (jobs) too high."
   ]
  },
  {
   "cell_type": "code",
   "execution_count": 25,
   "metadata": {},
   "outputs": [],
   "source": [
    "# First, make sure to import the relevant objects used to construct the tuner\n",
    "from sagemaker.tuner import IntegerParameter, ContinuousParameter, HyperparameterTuner\n",
    "\n",
    "# TODO: Create the hyperparameter tuner object\n",
    "\n",
    "xgb_hyperparameter_tuner = HyperparameterTuner(\n",
    "    estimator=xgb,\n",
    "    objective_metric_name=\"validation:error\",\n",
    "    objective_type=\"Minimize\",\n",
    "    max_jobs=10,\n",
    "    max_parallel_jobs=2,\n",
    "    hyperparameter_ranges={\n",
    "        \"max_depth\": IntegerParameter(3, 12),\n",
    "        \"eta\": ContinuousParameter(0.05, 0.5),\n",
    "        \"gamma\": ContinuousParameter(0, 10),\n",
    "        \"min_child_weight\": IntegerParameter(2, 8),\n",
    "        \"subsample\": ContinuousParameter(0.5, 0.9),\n",
    "    }\n",
    ")"
   ]
  },
  {
   "cell_type": "markdown",
   "metadata": {},
   "source": [
    "### Fit the hyperparameter tuner\n",
    "\n",
    "Now that the hyperparameter tuner object has been constructed, it is time to fit the various models and find the best performing model."
   ]
  },
  {
   "cell_type": "code",
   "execution_count": 23,
   "metadata": {},
   "outputs": [],
   "source": [
    "s3_input_train = sagemaker.s3_input(s3_data=train_location, content_type='csv')\n",
    "s3_input_validation = sagemaker.s3_input(s3_data=val_location, content_type='csv')"
   ]
  },
  {
   "cell_type": "code",
   "execution_count": 26,
   "metadata": {},
   "outputs": [],
   "source": [
    "xgb_hyperparameter_tuner.fit({'train': s3_input_train, 'validation': s3_input_validation})"
   ]
  },
  {
   "cell_type": "markdown",
   "metadata": {},
   "source": [
    "Remember that the tuning job is constructed and run in the background so if we want to see the progress of our training job we need to call the `wait()` method."
   ]
  },
  {
   "cell_type": "code",
   "execution_count": 30,
   "metadata": {},
   "outputs": [
    {
     "data": {
      "text/plain": [
       "'xgboost-191015-2205-005-0ee6a6f2'"
      ]
     },
     "execution_count": 30,
     "metadata": {},
     "output_type": "execute_result"
    }
   ],
   "source": [
    "xgb_hyperparameter_tuner.best_training_job()"
   ]
  },
  {
   "cell_type": "code",
   "execution_count": 32,
   "metadata": {},
   "outputs": [
    {
     "name": "stdout",
     "output_type": "stream",
     "text": [
      "s\n"
     ]
    }
   ],
   "source": [
    "xgb_hyperparameter_tuner.wait()"
   ]
  },
  {
   "cell_type": "markdown",
   "metadata": {},
   "source": [
    "### (TODO) Testing the model\n",
    "\n",
    "Now that we've run our hyperparameter tuning job, it's time to see how well the best performing model actually performs. To do this we will use SageMaker's Batch Transform functionality. Batch Transform is a convenient way to perform inference on a large dataset in a way that is not realtime. That is, we don't necessarily need to use our model's results immediately and instead we can peform inference on a large number of samples. An example of this in industry might be peforming an end of month report. This method of inference can also be useful to us as it means to can perform inference on our entire test set. \n",
    "\n",
    "Remember that in order to create a transformer object to perform the batch transform job, we need a trained estimator object. We can do that using the `attach()` method, creating an estimator object which is attached to the best trained job."
   ]
  },
  {
   "cell_type": "code",
   "execution_count": 34,
   "metadata": {},
   "outputs": [
    {
     "name": "stdout",
     "output_type": "stream",
     "text": [
      "2019-10-15 22:27:17 Starting - Preparing the instances for training\n",
      "2019-10-15 22:27:17 Downloading - Downloading input data\n",
      "2019-10-15 22:27:17 Training - Training image download completed. Training in progress.\n",
      "2019-10-15 22:27:17 Uploading - Uploading generated training model\n",
      "2019-10-15 22:27:17 Completed - Training job completed\u001b[31mArguments: train\u001b[0m\n",
      "\u001b[31m[2019-10-15:22:22:07:INFO] Running standalone xgboost training.\u001b[0m\n",
      "\u001b[31m[2019-10-15:22:22:07:INFO] Setting up HPO optimized metric to be : error\u001b[0m\n",
      "\u001b[31m[2019-10-15:22:22:07:INFO] File size need to be processed in the node: 238.47mb. Available memory size in the node: 8586.28mb\u001b[0m\n",
      "\u001b[31m[2019-10-15:22:22:07:INFO] Determined delimiter of CSV input is ','\u001b[0m\n",
      "\u001b[31m[22:22:07] S3DistributionType set as FullyReplicated\u001b[0m\n",
      "\u001b[31m[22:22:09] 15000x5000 matrix with 75000000 entries loaded from /opt/ml/input/data/train?format=csv&label_column=0&delimiter=,\u001b[0m\n",
      "\u001b[31m[2019-10-15:22:22:09:INFO] Determined delimiter of CSV input is ','\u001b[0m\n",
      "\u001b[31m[22:22:09] S3DistributionType set as FullyReplicated\u001b[0m\n",
      "\u001b[31m[22:22:10] 10000x5000 matrix with 50000000 entries loaded from /opt/ml/input/data/validation?format=csv&label_column=0&delimiter=,\u001b[0m\n",
      "\u001b[31m[22:22:15] src/tree/updater_prune.cc:74: tree pruning end, 1 roots, 96 extra nodes, 58 pruned nodes, max_depth=10\u001b[0m\n",
      "\u001b[31m[0]#011train-error:0.270467#011validation-error:0.2673\u001b[0m\n",
      "\u001b[31mMultiple eval metrics have been passed: 'validation-error' will be used for early stopping.\n",
      "\u001b[0m\n",
      "\u001b[31mWill train until validation-error hasn't improved in 10 rounds.\u001b[0m\n",
      "\u001b[31m[22:22:18] src/tree/updater_prune.cc:74: tree pruning end, 1 roots, 90 extra nodes, 50 pruned nodes, max_depth=10\u001b[0m\n",
      "\u001b[31m[1]#011train-error:0.244267#011validation-error:0.2464\u001b[0m\n",
      "\u001b[31m[22:22:21] src/tree/updater_prune.cc:74: tree pruning end, 1 roots, 64 extra nodes, 46 pruned nodes, max_depth=10\u001b[0m\n",
      "\u001b[31m[2]#011train-error:0.224133#011validation-error:0.2291\u001b[0m\n",
      "\u001b[31m[22:22:23] src/tree/updater_prune.cc:74: tree pruning end, 1 roots, 96 extra nodes, 46 pruned nodes, max_depth=10\u001b[0m\n",
      "\u001b[31m[3]#011train-error:0.2058#011validation-error:0.2226\u001b[0m\n",
      "\u001b[31m[22:22:26] src/tree/updater_prune.cc:74: tree pruning end, 1 roots, 54 extra nodes, 48 pruned nodes, max_depth=10\u001b[0m\n",
      "\u001b[31m[4]#011train-error:0.1938#011validation-error:0.211\u001b[0m\n",
      "\u001b[31m[22:22:28] src/tree/updater_prune.cc:74: tree pruning end, 1 roots, 58 extra nodes, 48 pruned nodes, max_depth=10\u001b[0m\n",
      "\u001b[31m[5]#011train-error:0.184067#011validation-error:0.205\u001b[0m\n",
      "\u001b[31m[22:22:31] src/tree/updater_prune.cc:74: tree pruning end, 1 roots, 54 extra nodes, 50 pruned nodes, max_depth=10\u001b[0m\n",
      "\u001b[31m[6]#011train-error:0.175533#011validation-error:0.1953\u001b[0m\n",
      "\u001b[31m[22:22:34] src/tree/updater_prune.cc:74: tree pruning end, 1 roots, 38 extra nodes, 40 pruned nodes, max_depth=10\u001b[0m\n",
      "\u001b[31m[7]#011train-error:0.1704#011validation-error:0.1935\u001b[0m\n",
      "\u001b[31m[22:22:36] src/tree/updater_prune.cc:74: tree pruning end, 1 roots, 48 extra nodes, 46 pruned nodes, max_depth=10\u001b[0m\n",
      "\u001b[31m[8]#011train-error:0.164667#011validation-error:0.188\u001b[0m\n",
      "\u001b[31m[22:22:39] src/tree/updater_prune.cc:74: tree pruning end, 1 roots, 50 extra nodes, 40 pruned nodes, max_depth=10\u001b[0m\n",
      "\u001b[31m[9]#011train-error:0.156467#011validation-error:0.1859\u001b[0m\n",
      "\u001b[31m[22:22:41] src/tree/updater_prune.cc:74: tree pruning end, 1 roots, 54 extra nodes, 38 pruned nodes, max_depth=10\u001b[0m\n",
      "\u001b[31m[10]#011train-error:0.151667#011validation-error:0.1813\u001b[0m\n",
      "\u001b[31m[22:22:44] src/tree/updater_prune.cc:74: tree pruning end, 1 roots, 48 extra nodes, 32 pruned nodes, max_depth=10\u001b[0m\n",
      "\u001b[31m[11]#011train-error:0.146933#011validation-error:0.1807\u001b[0m\n",
      "\u001b[31m[22:22:46] src/tree/updater_prune.cc:74: tree pruning end, 1 roots, 40 extra nodes, 34 pruned nodes, max_depth=10\u001b[0m\n",
      "\u001b[31m[12]#011train-error:0.1428#011validation-error:0.1752\u001b[0m\n",
      "\u001b[31m[22:22:49] src/tree/updater_prune.cc:74: tree pruning end, 1 roots, 38 extra nodes, 42 pruned nodes, max_depth=10\u001b[0m\n",
      "\u001b[31m[13]#011train-error:0.140133#011validation-error:0.1736\u001b[0m\n",
      "\u001b[31m[22:22:51] src/tree/updater_prune.cc:74: tree pruning end, 1 roots, 32 extra nodes, 40 pruned nodes, max_depth=10\u001b[0m\n",
      "\u001b[31m[14]#011train-error:0.139933#011validation-error:0.172\u001b[0m\n",
      "\u001b[31m[22:22:54] src/tree/updater_prune.cc:74: tree pruning end, 1 roots, 46 extra nodes, 44 pruned nodes, max_depth=10\u001b[0m\n",
      "\u001b[31m[15]#011train-error:0.135667#011validation-error:0.1698\u001b[0m\n",
      "\u001b[31m[22:22:56] src/tree/updater_prune.cc:74: tree pruning end, 1 roots, 26 extra nodes, 36 pruned nodes, max_depth=10\u001b[0m\n",
      "\u001b[31m[16]#011train-error:0.134267#011validation-error:0.1672\u001b[0m\n",
      "\u001b[31m[22:22:59] src/tree/updater_prune.cc:74: tree pruning end, 1 roots, 36 extra nodes, 20 pruned nodes, max_depth=10\u001b[0m\n",
      "\u001b[31m[17]#011train-error:0.132133#011validation-error:0.1651\u001b[0m\n",
      "\u001b[31m[22:23:01] src/tree/updater_prune.cc:74: tree pruning end, 1 roots, 26 extra nodes, 38 pruned nodes, max_depth=10\u001b[0m\n",
      "\u001b[31m[18]#011train-error:0.131467#011validation-error:0.1622\u001b[0m\n",
      "\u001b[31m[22:23:04] src/tree/updater_prune.cc:74: tree pruning end, 1 roots, 36 extra nodes, 38 pruned nodes, max_depth=10\u001b[0m\n",
      "\u001b[31m[19]#011train-error:0.128267#011validation-error:0.161\u001b[0m\n",
      "\u001b[31m[22:23:06] src/tree/updater_prune.cc:74: tree pruning end, 1 roots, 24 extra nodes, 24 pruned nodes, max_depth=10\u001b[0m\n",
      "\u001b[31m[20]#011train-error:0.1254#011validation-error:0.1602\u001b[0m\n",
      "\u001b[31m[22:23:09] src/tree/updater_prune.cc:74: tree pruning end, 1 roots, 30 extra nodes, 26 pruned nodes, max_depth=10\u001b[0m\n",
      "\u001b[31m[21]#011train-error:0.123667#011validation-error:0.1597\u001b[0m\n",
      "\u001b[31m[22:23:12] src/tree/updater_prune.cc:74: tree pruning end, 1 roots, 56 extra nodes, 42 pruned nodes, max_depth=10\u001b[0m\n",
      "\u001b[31m[22]#011train-error:0.118333#011validation-error:0.1584\u001b[0m\n",
      "\u001b[31m[22:23:14] src/tree/updater_prune.cc:74: tree pruning end, 1 roots, 38 extra nodes, 18 pruned nodes, max_depth=10\u001b[0m\n",
      "\u001b[31m[23]#011train-error:0.117733#011validation-error:0.157\u001b[0m\n",
      "\u001b[31m[22:23:17] src/tree/updater_prune.cc:74: tree pruning end, 1 roots, 30 extra nodes, 26 pruned nodes, max_depth=10\u001b[0m\n",
      "\u001b[31m[24]#011train-error:0.1168#011validation-error:0.1551\u001b[0m\n",
      "\u001b[31m[22:23:19] src/tree/updater_prune.cc:74: tree pruning end, 1 roots, 22 extra nodes, 14 pruned nodes, max_depth=10\u001b[0m\n",
      "\u001b[31m[25]#011train-error:0.1154#011validation-error:0.1538\u001b[0m\n",
      "\u001b[31m[22:23:22] src/tree/updater_prune.cc:74: tree pruning end, 1 roots, 38 extra nodes, 28 pruned nodes, max_depth=10\u001b[0m\n",
      "\u001b[31m[26]#011train-error:0.112333#011validation-error:0.1552\u001b[0m\n",
      "\u001b[31m[22:23:24] src/tree/updater_prune.cc:74: tree pruning end, 1 roots, 32 extra nodes, 24 pruned nodes, max_depth=10\u001b[0m\n",
      "\u001b[31m[27]#011train-error:0.110933#011validation-error:0.153\u001b[0m\n",
      "\u001b[31m[22:23:27] src/tree/updater_prune.cc:74: tree pruning end, 1 roots, 30 extra nodes, 16 pruned nodes, max_depth=10\u001b[0m\n",
      "\u001b[31m[28]#011train-error:0.107933#011validation-error:0.1519\u001b[0m\n",
      "\u001b[31m[22:23:29] src/tree/updater_prune.cc:74: tree pruning end, 1 roots, 28 extra nodes, 20 pruned nodes, max_depth=10\u001b[0m\n",
      "\u001b[31m[29]#011train-error:0.106667#011validation-error:0.1501\u001b[0m\n",
      "\u001b[31m[22:23:32] src/tree/updater_prune.cc:74: tree pruning end, 1 roots, 26 extra nodes, 22 pruned nodes, max_depth=10\u001b[0m\n",
      "\u001b[31m[30]#011train-error:0.104733#011validation-error:0.1496\u001b[0m\n",
      "\u001b[31m[22:23:34] src/tree/updater_prune.cc:74: tree pruning end, 1 roots, 26 extra nodes, 28 pruned nodes, max_depth=10\u001b[0m\n",
      "\u001b[31m[31]#011train-error:0.103733#011validation-error:0.1479\u001b[0m\n",
      "\u001b[31m[22:23:37] src/tree/updater_prune.cc:74: tree pruning end, 1 roots, 36 extra nodes, 32 pruned nodes, max_depth=10\u001b[0m\n",
      "\u001b[31m[32]#011train-error:0.101333#011validation-error:0.1453\u001b[0m\n",
      "\u001b[31m[22:23:39] src/tree/updater_prune.cc:74: tree pruning end, 1 roots, 26 extra nodes, 28 pruned nodes, max_depth=10\u001b[0m\n",
      "\u001b[31m[33]#011train-error:0.100933#011validation-error:0.1461\u001b[0m\n",
      "\u001b[31m[22:23:42] src/tree/updater_prune.cc:74: tree pruning end, 1 roots, 26 extra nodes, 28 pruned nodes, max_depth=10\u001b[0m\n",
      "\u001b[31m[34]#011train-error:0.099333#011validation-error:0.1449\u001b[0m\n",
      "\u001b[31m[22:23:44] src/tree/updater_prune.cc:74: tree pruning end, 1 roots, 20 extra nodes, 14 pruned nodes, max_depth=10\u001b[0m\n",
      "\u001b[31m[35]#011train-error:0.097667#011validation-error:0.1443\u001b[0m\n",
      "\u001b[31m[22:23:47] src/tree/updater_prune.cc:74: tree pruning end, 1 roots, 24 extra nodes, 18 pruned nodes, max_depth=10\u001b[0m\n",
      "\u001b[31m[36]#011train-error:0.096333#011validation-error:0.1441\u001b[0m\n",
      "\u001b[31m[22:23:49] src/tree/updater_prune.cc:74: tree pruning end, 1 roots, 32 extra nodes, 38 pruned nodes, max_depth=10\u001b[0m\n",
      "\u001b[31m[37]#011train-error:0.0958#011validation-error:0.1445\u001b[0m\n",
      "\u001b[31m[22:23:52] src/tree/updater_prune.cc:74: tree pruning end, 1 roots, 38 extra nodes, 40 pruned nodes, max_depth=10\u001b[0m\n",
      "\u001b[31m[38]#011train-error:0.093067#011validation-error:0.1432\u001b[0m\n",
      "\u001b[31m[22:23:54] src/tree/updater_prune.cc:74: tree pruning end, 1 roots, 30 extra nodes, 34 pruned nodes, max_depth=10\u001b[0m\n",
      "\u001b[31m[39]#011train-error:0.091133#011validation-error:0.1428\u001b[0m\n",
      "\u001b[31m[22:23:57] src/tree/updater_prune.cc:74: tree pruning end, 1 roots, 32 extra nodes, 8 pruned nodes, max_depth=10\u001b[0m\n",
      "\u001b[31m[40]#011train-error:0.090467#011validation-error:0.1441\u001b[0m\n",
      "\u001b[31m[22:23:59] src/tree/updater_prune.cc:74: tree pruning end, 1 roots, 26 extra nodes, 14 pruned nodes, max_depth=10\u001b[0m\n",
      "\u001b[31m[41]#011train-error:0.089733#011validation-error:0.1427\u001b[0m\n",
      "\u001b[31m[22:24:02] src/tree/updater_prune.cc:74: tree pruning end, 1 roots, 24 extra nodes, 22 pruned nodes, max_depth=10\u001b[0m\n",
      "\u001b[31m[42]#011train-error:0.088067#011validation-error:0.1427\u001b[0m\n",
      "\u001b[31m[22:24:04] src/tree/updater_prune.cc:74: tree pruning end, 1 roots, 22 extra nodes, 14 pruned nodes, max_depth=10\u001b[0m\n",
      "\u001b[31m[43]#011train-error:0.0876#011validation-error:0.1433\u001b[0m\n",
      "\u001b[31m[22:24:07] src/tree/updater_prune.cc:74: tree pruning end, 1 roots, 20 extra nodes, 22 pruned nodes, max_depth=10\u001b[0m\n",
      "\u001b[31m[44]#011train-error:0.0874#011validation-error:0.1441\u001b[0m\n",
      "\u001b[31m[22:24:09] src/tree/updater_prune.cc:74: tree pruning end, 1 roots, 30 extra nodes, 36 pruned nodes, max_depth=10\u001b[0m\n",
      "\u001b[31m[45]#011train-error:0.085533#011validation-error:0.1438\u001b[0m\n",
      "\u001b[31m[22:24:12] src/tree/updater_prune.cc:74: tree pruning end, 1 roots, 20 extra nodes, 10 pruned nodes, max_depth=10\u001b[0m\n",
      "\u001b[31m[46]#011train-error:0.085067#011validation-error:0.1421\u001b[0m\n",
      "\u001b[31m[22:24:14] src/tree/updater_prune.cc:74: tree pruning end, 1 roots, 24 extra nodes, 22 pruned nodes, max_depth=10\u001b[0m\n",
      "\u001b[31m[47]#011train-error:0.084#011validation-error:0.1425\u001b[0m\n",
      "\u001b[31m[22:24:17] src/tree/updater_prune.cc:74: tree pruning end, 1 roots, 22 extra nodes, 30 pruned nodes, max_depth=10\u001b[0m\n",
      "\u001b[31m[48]#011train-error:0.082733#011validation-error:0.1432\u001b[0m\n",
      "\u001b[31m[22:24:19] src/tree/updater_prune.cc:74: tree pruning end, 1 roots, 30 extra nodes, 30 pruned nodes, max_depth=10\u001b[0m\n",
      "\u001b[31m[49]#011train-error:0.083133#011validation-error:0.1418\u001b[0m\n",
      "\u001b[31m[22:24:22] src/tree/updater_prune.cc:74: tree pruning end, 1 roots, 20 extra nodes, 20 pruned nodes, max_depth=10\u001b[0m\n",
      "\u001b[31m[50]#011train-error:0.082867#011validation-error:0.1397\u001b[0m\n",
      "\u001b[31m[22:24:25] src/tree/updater_prune.cc:74: tree pruning end, 1 roots, 16 extra nodes, 10 pruned nodes, max_depth=8\u001b[0m\n",
      "\u001b[31m[51]#011train-error:0.082533#011validation-error:0.1397\u001b[0m\n",
      "\u001b[31m[22:24:27] src/tree/updater_prune.cc:74: tree pruning end, 1 roots, 20 extra nodes, 28 pruned nodes, max_depth=10\u001b[0m\n",
      "\u001b[31m[52]#011train-error:0.082333#011validation-error:0.1393\u001b[0m\n",
      "\u001b[31m[22:24:30] src/tree/updater_prune.cc:74: tree pruning end, 1 roots, 38 extra nodes, 28 pruned nodes, max_depth=10\u001b[0m\n",
      "\u001b[31m[53]#011train-error:0.0796#011validation-error:0.1401\u001b[0m\n",
      "\u001b[31m[22:24:32] src/tree/updater_prune.cc:74: tree pruning end, 1 roots, 22 extra nodes, 22 pruned nodes, max_depth=10\u001b[0m\n",
      "\u001b[31m[54]#011train-error:0.0796#011validation-error:0.1404\u001b[0m\n",
      "\u001b[31m[22:24:35] src/tree/updater_prune.cc:74: tree pruning end, 1 roots, 18 extra nodes, 16 pruned nodes, max_depth=9\u001b[0m\n",
      "\u001b[31m[55]#011train-error:0.079533#011validation-error:0.1397\u001b[0m\n",
      "\u001b[31m[22:24:37] src/tree/updater_prune.cc:74: tree pruning end, 1 roots, 40 extra nodes, 28 pruned nodes, max_depth=10\u001b[0m\n",
      "\u001b[31m[56]#011train-error:0.078133#011validation-error:0.1392\u001b[0m\n",
      "\u001b[31m[22:24:40] src/tree/updater_prune.cc:74: tree pruning end, 1 roots, 20 extra nodes, 14 pruned nodes, max_depth=10\u001b[0m\n",
      "\u001b[31m[57]#011train-error:0.0772#011validation-error:0.1386\u001b[0m\n",
      "\u001b[31m[22:24:42] src/tree/updater_prune.cc:74: tree pruning end, 1 roots, 26 extra nodes, 30 pruned nodes, max_depth=10\u001b[0m\n",
      "\u001b[31m[58]#011train-error:0.0758#011validation-error:0.1386\u001b[0m\n",
      "\u001b[31m[22:24:45] src/tree/updater_prune.cc:74: tree pruning end, 1 roots, 8 extra nodes, 28 pruned nodes, max_depth=4\u001b[0m\n",
      "\u001b[31m[59]#011train-error:0.075467#011validation-error:0.1385\u001b[0m\n",
      "\u001b[31m[22:24:47] src/tree/updater_prune.cc:74: tree pruning end, 1 roots, 20 extra nodes, 34 pruned nodes, max_depth=10\u001b[0m\n",
      "\u001b[31m[60]#011train-error:0.0752#011validation-error:0.1374\u001b[0m\n",
      "\u001b[31m[22:24:50] src/tree/updater_prune.cc:74: tree pruning end, 1 roots, 8 extra nodes, 54 pruned nodes, max_depth=4\u001b[0m\n",
      "\u001b[31m[61]#011train-error:0.075467#011validation-error:0.1376\u001b[0m\n",
      "\u001b[31m[22:24:53] src/tree/updater_prune.cc:74: tree pruning end, 1 roots, 16 extra nodes, 18 pruned nodes, max_depth=8\u001b[0m\n",
      "\u001b[31m[62]#011train-error:0.0752#011validation-error:0.1382\u001b[0m\n",
      "\u001b[31m[22:24:55] src/tree/updater_prune.cc:74: tree pruning end, 1 roots, 16 extra nodes, 42 pruned nodes, max_depth=8\u001b[0m\n",
      "\u001b[31m[63]#011train-error:0.074667#011validation-error:0.1381\u001b[0m\n",
      "\u001b[31m[22:24:58] src/tree/updater_prune.cc:74: tree pruning end, 1 roots, 20 extra nodes, 16 pruned nodes, max_depth=10\u001b[0m\n",
      "\u001b[31m[64]#011train-error:0.074267#011validation-error:0.1383\u001b[0m\n",
      "\u001b[31m[22:25:00] src/tree/updater_prune.cc:74: tree pruning end, 1 roots, 16 extra nodes, 46 pruned nodes, max_depth=7\u001b[0m\n",
      "\u001b[31m[65]#011train-error:0.074267#011validation-error:0.1377\u001b[0m\n",
      "\u001b[31m[22:25:03] src/tree/updater_prune.cc:74: tree pruning end, 1 roots, 12 extra nodes, 34 pruned nodes, max_depth=5\u001b[0m\n",
      "\u001b[31m[66]#011train-error:0.074#011validation-error:0.1376\u001b[0m\n",
      "\u001b[31m[22:25:05] src/tree/updater_prune.cc:74: tree pruning end, 1 roots, 18 extra nodes, 18 pruned nodes, max_depth=9\u001b[0m\n",
      "\u001b[31m[67]#011train-error:0.073#011validation-error:0.1366\u001b[0m\n",
      "\u001b[31m[22:25:08] src/tree/updater_prune.cc:74: tree pruning end, 1 roots, 20 extra nodes, 38 pruned nodes, max_depth=10\u001b[0m\n",
      "\u001b[31m[68]#011train-error:0.072667#011validation-error:0.1356\u001b[0m\n",
      "\u001b[31m[22:25:10] src/tree/updater_prune.cc:74: tree pruning end, 1 roots, 14 extra nodes, 24 pruned nodes, max_depth=6\u001b[0m\n",
      "\u001b[31m[69]#011train-error:0.072667#011validation-error:0.1359\u001b[0m\n",
      "\u001b[31m[22:25:13] src/tree/updater_prune.cc:74: tree pruning end, 1 roots, 28 extra nodes, 24 pruned nodes, max_depth=10\u001b[0m\n",
      "\u001b[31m[70]#011train-error:0.072467#011validation-error:0.1354\u001b[0m\n",
      "\u001b[31m[22:25:15] src/tree/updater_prune.cc:74: tree pruning end, 1 roots, 12 extra nodes, 24 pruned nodes, max_depth=6\u001b[0m\n",
      "\u001b[31m[71]#011train-error:0.072333#011validation-error:0.1358\u001b[0m\n",
      "\u001b[31m[22:25:18] src/tree/updater_prune.cc:74: tree pruning end, 1 roots, 18 extra nodes, 38 pruned nodes, max_depth=8\u001b[0m\n",
      "\u001b[31m[72]#011train-error:0.0724#011validation-error:0.135\u001b[0m\n",
      "\u001b[31m[22:25:20] src/tree/updater_prune.cc:74: tree pruning end, 1 roots, 20 extra nodes, 28 pruned nodes, max_depth=10\u001b[0m\n",
      "\u001b[31m[73]#011train-error:0.072267#011validation-error:0.1353\u001b[0m\n",
      "\u001b[31m[22:25:23] src/tree/updater_prune.cc:74: tree pruning end, 1 roots, 0 extra nodes, 30 pruned nodes, max_depth=0\u001b[0m\n",
      "\u001b[31m[74]#011train-error:0.072067#011validation-error:0.1351\u001b[0m\n",
      "\u001b[31m[22:25:25] src/tree/updater_prune.cc:74: tree pruning end, 1 roots, 20 extra nodes, 20 pruned nodes, max_depth=10\u001b[0m\n",
      "\u001b[31m[75]#011train-error:0.071267#011validation-error:0.1347\u001b[0m\n",
      "\u001b[31m[22:25:28] src/tree/updater_prune.cc:74: tree pruning end, 1 roots, 4 extra nodes, 26 pruned nodes, max_depth=2\u001b[0m\n",
      "\u001b[31m[76]#011train-error:0.071133#011validation-error:0.1349\u001b[0m\n",
      "\u001b[31m[22:25:30] src/tree/updater_prune.cc:74: tree pruning end, 1 roots, 14 extra nodes, 40 pruned nodes, max_depth=6\u001b[0m\n",
      "\u001b[31m[77]#011train-error:0.070467#011validation-error:0.1334\u001b[0m\n",
      "\u001b[31m[22:25:33] src/tree/updater_prune.cc:74: tree pruning end, 1 roots, 22 extra nodes, 20 pruned nodes, max_depth=10\u001b[0m\n",
      "\u001b[31m[78]#011train-error:0.071267#011validation-error:0.1331\u001b[0m\n",
      "\u001b[31m[22:25:35] src/tree/updater_prune.cc:74: tree pruning end, 1 roots, 2 extra nodes, 34 pruned nodes, max_depth=1\u001b[0m\n",
      "\u001b[31m[79]#011train-error:0.070733#011validation-error:0.1329\u001b[0m\n",
      "\u001b[31m[22:25:38] src/tree/updater_prune.cc:74: tree pruning end, 1 roots, 20 extra nodes, 16 pruned nodes, max_depth=10\u001b[0m\n",
      "\u001b[31m[80]#011train-error:0.070267#011validation-error:0.1328\u001b[0m\n",
      "\u001b[31m[22:25:41] src/tree/updater_prune.cc:74: tree pruning end, 1 roots, 0 extra nodes, 54 pruned nodes, max_depth=0\u001b[0m\n",
      "\u001b[31m[81]#011train-error:0.070333#011validation-error:0.1327\u001b[0m\n",
      "\u001b[31m[22:25:43] src/tree/updater_prune.cc:74: tree pruning end, 1 roots, 16 extra nodes, 22 pruned nodes, max_depth=8\u001b[0m\n",
      "\u001b[31m[82]#011train-error:0.069333#011validation-error:0.1316\u001b[0m\n",
      "\u001b[31m[22:25:46] src/tree/updater_prune.cc:74: tree pruning end, 1 roots, 0 extra nodes, 42 pruned nodes, max_depth=0\u001b[0m\n",
      "\u001b[31m[83]#011train-error:0.069333#011validation-error:0.1313\u001b[0m\n",
      "\u001b[31m[22:25:48] src/tree/updater_prune.cc:74: tree pruning end, 1 roots, 10 extra nodes, 24 pruned nodes, max_depth=5\u001b[0m\n",
      "\u001b[31m[84]#011train-error:0.068933#011validation-error:0.131\u001b[0m\n",
      "\u001b[31m[22:25:51] src/tree/updater_prune.cc:74: tree pruning end, 1 roots, 22 extra nodes, 36 pruned nodes, max_depth=10\u001b[0m\n",
      "\u001b[31m[85]#011train-error:0.068267#011validation-error:0.1317\u001b[0m\n",
      "\u001b[31m[22:25:53] src/tree/updater_prune.cc:74: tree pruning end, 1 roots, 18 extra nodes, 30 pruned nodes, max_depth=9\u001b[0m\n",
      "\u001b[31m[86]#011train-error:0.067333#011validation-error:0.1324\u001b[0m\n",
      "\u001b[31m[22:25:56] src/tree/updater_prune.cc:74: tree pruning end, 1 roots, 12 extra nodes, 32 pruned nodes, max_depth=6\u001b[0m\n",
      "\u001b[31m[87]#011train-error:0.0668#011validation-error:0.1307\u001b[0m\n",
      "\u001b[31m[22:25:58] src/tree/updater_prune.cc:74: tree pruning end, 1 roots, 10 extra nodes, 20 pruned nodes, max_depth=5\u001b[0m\n",
      "\u001b[31m[88]#011train-error:0.067#011validation-error:0.1314\u001b[0m\n",
      "\u001b[31m[22:26:01] src/tree/updater_prune.cc:74: tree pruning end, 1 roots, 10 extra nodes, 22 pruned nodes, max_depth=5\u001b[0m\n",
      "\u001b[31m[89]#011train-error:0.067067#011validation-error:0.1308\u001b[0m\n",
      "\u001b[31m[22:26:03] src/tree/updater_prune.cc:74: tree pruning end, 1 roots, 22 extra nodes, 34 pruned nodes, max_depth=10\u001b[0m\n",
      "\u001b[31m[90]#011train-error:0.067867#011validation-error:0.1306\u001b[0m\n",
      "\u001b[31m[22:26:06] src/tree/updater_prune.cc:74: tree pruning end, 1 roots, 0 extra nodes, 56 pruned nodes, max_depth=0\u001b[0m\n",
      "\u001b[31m[91]#011train-error:0.068#011validation-error:0.1305\u001b[0m\n",
      "\u001b[31m[22:26:08] src/tree/updater_prune.cc:74: tree pruning end, 1 roots, 0 extra nodes, 38 pruned nodes, max_depth=0\u001b[0m\n",
      "\u001b[31m[92]#011train-error:0.068#011validation-error:0.1306\u001b[0m\n",
      "\u001b[31m[22:26:11] src/tree/updater_prune.cc:74: tree pruning end, 1 roots, 20 extra nodes, 20 pruned nodes, max_depth=10\u001b[0m\n",
      "\u001b[31m[93]#011train-error:0.067667#011validation-error:0.1311\u001b[0m\n",
      "\u001b[31m[22:26:13] src/tree/updater_prune.cc:74: tree pruning end, 1 roots, 0 extra nodes, 54 pruned nodes, max_depth=0\u001b[0m\n",
      "\u001b[31m[94]#011train-error:0.0678#011validation-error:0.1311\u001b[0m\n",
      "\u001b[31m[22:26:16] src/tree/updater_prune.cc:74: tree pruning end, 1 roots, 6 extra nodes, 34 pruned nodes, max_depth=3\u001b[0m\n",
      "\u001b[31m[95]#011train-error:0.0668#011validation-error:0.1317\u001b[0m\n",
      "\u001b[31m[22:26:18] src/tree/updater_prune.cc:74: tree pruning end, 1 roots, 22 extra nodes, 10 pruned nodes, max_depth=10\u001b[0m\n",
      "\u001b[31m[96]#011train-error:0.0674#011validation-error:0.1315\u001b[0m\n",
      "\u001b[31m[22:26:21] src/tree/updater_prune.cc:74: tree pruning end, 1 roots, 0 extra nodes, 30 pruned nodes, max_depth=0\u001b[0m\n",
      "\u001b[31m[97]#011train-error:0.067533#011validation-error:0.1312\u001b[0m\n",
      "\u001b[31m[22:26:23] src/tree/updater_prune.cc:74: tree pruning end, 1 roots, 18 extra nodes, 22 pruned nodes, max_depth=8\u001b[0m\n",
      "\u001b[31m[98]#011train-error:0.0672#011validation-error:0.1321\u001b[0m\n",
      "\u001b[31m[22:26:26] src/tree/updater_prune.cc:74: tree pruning end, 1 roots, 6 extra nodes, 56 pruned nodes, max_depth=3\u001b[0m\n",
      "\u001b[31m[99]#011train-error:0.0666#011validation-error:0.1322\u001b[0m\n",
      "\u001b[31m[22:26:29] src/tree/updater_prune.cc:74: tree pruning end, 1 roots, 6 extra nodes, 48 pruned nodes, max_depth=3\u001b[0m\n",
      "\u001b[31m[100]#011train-error:0.067#011validation-error:0.1318\u001b[0m\n",
      "\u001b[31m[22:26:31] src/tree/updater_prune.cc:74: tree pruning end, 1 roots, 16 extra nodes, 28 pruned nodes, max_depth=7\u001b[0m\n",
      "\u001b[31m[101]#011train-error:0.066333#011validation-error:0.1321\u001b[0m\n",
      "\u001b[31mStopping. Best iteration:\u001b[0m\n",
      "\u001b[31m[91]#011train-error:0.068#011validation-error:0.1305\n",
      "\u001b[0m\n",
      "Training seconds: 361\n",
      "Billable seconds: 361\n"
     ]
    }
   ],
   "source": [
    "# TODO: Create a new estimator object attached to the best training job found during hyperparameter tuning\n",
    "\n",
    "xgb_attached = sagemaker.estimator.Estimator.attach(xgb_hyperparameter_tuner.best_training_job())"
   ]
  },
  {
   "cell_type": "markdown",
   "metadata": {},
   "source": [
    "Now that we have an estimator object attached to the correct training job, we can proceed as we normally would and create a transformer object."
   ]
  },
  {
   "cell_type": "code",
   "execution_count": 35,
   "metadata": {},
   "outputs": [],
   "source": [
    "# TODO: Create a transformer object from the attached estimator. Using an instance count of 1 and an instance type of ml.m4.xlarge\n",
    "#       should be more than enough.\n",
    "\n",
    "xgb_transformer = xgb_attached.transformer(instance_count=1, instance_type=\"ml.m4.xlarge\")"
   ]
  },
  {
   "cell_type": "markdown",
   "metadata": {},
   "source": [
    "Next we actually perform the transform job. When doing so we need to make sure to specify the type of data we are sending so that it is serialized correctly in the background. In our case we are providing our model with csv data so we specify `text/csv`. Also, if the test data that we have provided is too large to process all at once then we need to specify how the data file should be split up. Since each line is a single entry in our data set we tell SageMaker that it can split the input on each line."
   ]
  },
  {
   "cell_type": "code",
   "execution_count": 42,
   "metadata": {},
   "outputs": [],
   "source": [
    "# TODO: Start the transform job. Make sure to specify the content type and the split type of the test data.\n",
    "\n",
    "xgb_transformer.transform(test_location, content_type=\"text/csv\", split_type=\"Line\")"
   ]
  },
  {
   "cell_type": "markdown",
   "metadata": {},
   "source": [
    "Currently the transform job is running but it is doing so in the background. Since we wish to wait until the transform job is done and we would like a bit of feedback we can run the `wait()` method."
   ]
  },
  {
   "cell_type": "code",
   "execution_count": 44,
   "metadata": {},
   "outputs": [
    {
     "name": "stdout",
     "output_type": "stream",
     "text": [
      "..\u001b[31mArguments: serve\u001b[0m\n",
      "\u001b[31m[2019-10-15 22:56:12 +0000] [1] [INFO] Starting gunicorn 19.7.1\u001b[0m\n",
      "\u001b[31m[2019-10-15 22:56:12 +0000] [1] [INFO] Listening at: http://0.0.0.0:8080 (1)\u001b[0m\n",
      "\u001b[31m[2019-10-15 22:56:12 +0000] [1] [INFO] Using worker: gevent\u001b[0m\n",
      "\u001b[31m[2019-10-15 22:56:12 +0000] [37] [INFO] Booting worker with pid: 37\u001b[0m\n",
      "\u001b[31m[2019-10-15 22:56:12 +0000] [38] [INFO] Booting worker with pid: 38\u001b[0m\n",
      "\u001b[31m[2019-10-15 22:56:12 +0000] [39] [INFO] Booting worker with pid: 39\u001b[0m\n",
      "\u001b[31m[2019-10-15 22:56:12 +0000] [40] [INFO] Booting worker with pid: 40\u001b[0m\n",
      "\u001b[31m[2019-10-15:22:56:12:INFO] Model loaded successfully for worker : 37\u001b[0m\n",
      "\u001b[31m[2019-10-15:22:56:12:INFO] Model loaded successfully for worker : 40\u001b[0m\n",
      "\u001b[31m[2019-10-15:22:56:12:INFO] Model loaded successfully for worker : 39\u001b[0m\n",
      "\u001b[31m[2019-10-15:22:56:12:INFO] Model loaded successfully for worker : 38\u001b[0m\n",
      "\u001b[33m2019-10-15T22:56:39.938:[sagemaker logs]: MaxConcurrentTransforms=4, MaxPayloadInMB=6, BatchStrategy=MULTI_RECORD\u001b[0m\n",
      "\u001b[31m[2019-10-15:22:56:43:INFO] Sniff delimiter as ','\u001b[0m\n",
      "\u001b[31m[2019-10-15:22:56:43:INFO] Determined delimiter of CSV input is ','\u001b[0m\n",
      "\u001b[32m[2019-10-15:22:56:43:INFO] Sniff delimiter as ','\u001b[0m\n",
      "\u001b[32m[2019-10-15:22:56:43:INFO] Determined delimiter of CSV input is ','\u001b[0m\n",
      "\u001b[31m[2019-10-15:22:56:43:INFO] Sniff delimiter as ','\u001b[0m\n",
      "\u001b[31m[2019-10-15:22:56:43:INFO] Determined delimiter of CSV input is ','\u001b[0m\n",
      "\u001b[31m[2019-10-15:22:56:43:INFO] Sniff delimiter as ','\u001b[0m\n",
      "\u001b[31m[2019-10-15:22:56:43:INFO] Determined delimiter of CSV input is ','\u001b[0m\n",
      "\u001b[31m[2019-10-15:22:56:43:INFO] Sniff delimiter as ','\u001b[0m\n",
      "\u001b[31m[2019-10-15:22:56:43:INFO] Determined delimiter of CSV input is ','\u001b[0m\n",
      "\u001b[32m[2019-10-15:22:56:43:INFO] Sniff delimiter as ','\u001b[0m\n",
      "\u001b[32m[2019-10-15:22:56:43:INFO] Determined delimiter of CSV input is ','\u001b[0m\n",
      "\u001b[32m[2019-10-15:22:56:43:INFO] Sniff delimiter as ','\u001b[0m\n",
      "\u001b[32m[2019-10-15:22:56:43:INFO] Determined delimiter of CSV input is ','\u001b[0m\n",
      "\u001b[32m[2019-10-15:22:56:43:INFO] Sniff delimiter as ','\u001b[0m\n",
      "\u001b[32m[2019-10-15:22:56:43:INFO] Determined delimiter of CSV input is ','\u001b[0m\n",
      "\u001b[31m[2019-10-15:22:56:45:INFO] Sniff delimiter as ','\u001b[0m\n",
      "\u001b[31m[2019-10-15:22:56:45:INFO] Determined delimiter of CSV input is ','\u001b[0m\n",
      "\u001b[31m[2019-10-15:22:56:45:INFO] Sniff delimiter as ','\u001b[0m\n",
      "\u001b[31m[2019-10-15:22:56:45:INFO] Determined delimiter of CSV input is ','\u001b[0m\n",
      "\u001b[31m[2019-10-15:22:56:45:INFO] Sniff delimiter as ','\u001b[0m\n",
      "\u001b[31m[2019-10-15:22:56:45:INFO] Determined delimiter of CSV input is ','\u001b[0m\n",
      "\u001b[31m[2019-10-15:22:56:45:INFO] Sniff delimiter as ','\u001b[0m\n",
      "\u001b[31m[2019-10-15:22:56:45:INFO] Determined delimiter of CSV input is ','\u001b[0m\n",
      "\u001b[32m[2019-10-15:22:56:45:INFO] Sniff delimiter as ','\u001b[0m\n",
      "\u001b[32m[2019-10-15:22:56:45:INFO] Determined delimiter of CSV input is ','\u001b[0m\n",
      "\u001b[32m[2019-10-15:22:56:45:INFO] Sniff delimiter as ','\u001b[0m\n",
      "\u001b[32m[2019-10-15:22:56:45:INFO] Determined delimiter of CSV input is ','\u001b[0m\n",
      "\u001b[32m[2019-10-15:22:56:45:INFO] Sniff delimiter as ','\u001b[0m\n",
      "\u001b[32m[2019-10-15:22:56:45:INFO] Determined delimiter of CSV input is ','\u001b[0m\n",
      "\u001b[32m[2019-10-15:22:56:45:INFO] Sniff delimiter as ','\u001b[0m\n",
      "\u001b[32m[2019-10-15:22:56:45:INFO] Determined delimiter of CSV input is ','\u001b[0m\n",
      "\u001b[31m[2019-10-15:22:56:47:INFO] Sniff delimiter as ','\u001b[0m\n",
      "\u001b[31m[2019-10-15:22:56:47:INFO] Determined delimiter of CSV input is ','\u001b[0m\n",
      "\u001b[31m[2019-10-15:22:56:47:INFO] Sniff delimiter as ','\u001b[0m\n",
      "\u001b[31m[2019-10-15:22:56:47:INFO] Determined delimiter of CSV input is ','\u001b[0m\n",
      "\u001b[32m[2019-10-15:22:56:47:INFO] Sniff delimiter as ','\u001b[0m\n",
      "\u001b[32m[2019-10-15:22:56:47:INFO] Determined delimiter of CSV input is ','\u001b[0m\n",
      "\u001b[32m[2019-10-15:22:56:47:INFO] Sniff delimiter as ','\u001b[0m\n",
      "\u001b[32m[2019-10-15:22:56:47:INFO] Determined delimiter of CSV input is ','\u001b[0m\n",
      "\u001b[31m[2019-10-15:22:56:48:INFO] Sniff delimiter as ','\u001b[0m\n",
      "\u001b[31m[2019-10-15:22:56:48:INFO] Determined delimiter of CSV input is ','\u001b[0m\n",
      "\u001b[31m[2019-10-15:22:56:48:INFO] Sniff delimiter as ','\u001b[0m\n",
      "\u001b[31m[2019-10-15:22:56:48:INFO] Determined delimiter of CSV input is ','\u001b[0m\n",
      "\u001b[32m[2019-10-15:22:56:48:INFO] Sniff delimiter as ','\u001b[0m\n",
      "\u001b[32m[2019-10-15:22:56:48:INFO] Determined delimiter of CSV input is ','\u001b[0m\n",
      "\u001b[32m[2019-10-15:22:56:48:INFO] Sniff delimiter as ','\u001b[0m\n",
      "\u001b[32m[2019-10-15:22:56:48:INFO] Determined delimiter of CSV input is ','\u001b[0m\n",
      "\u001b[31m[2019-10-15:22:56:50:INFO] Sniff delimiter as ','\u001b[0m\n",
      "\u001b[32m[2019-10-15:22:56:50:INFO] Sniff delimiter as ','\u001b[0m\n",
      "\u001b[31m[2019-10-15:22:56:50:INFO] Determined delimiter of CSV input is ','\u001b[0m\n",
      "\u001b[31m[2019-10-15:22:56:50:INFO] Sniff delimiter as ','\u001b[0m\n",
      "\u001b[31m[2019-10-15:22:56:50:INFO] Determined delimiter of CSV input is ','\u001b[0m\n",
      "\u001b[31m[2019-10-15:22:56:50:INFO] Sniff delimiter as ','\u001b[0m\n",
      "\u001b[31m[2019-10-15:22:56:50:INFO] Determined delimiter of CSV input is ','\u001b[0m\n",
      "\u001b[31m[2019-10-15:22:56:50:INFO] Sniff delimiter as ','\u001b[0m\n",
      "\u001b[31m[2019-10-15:22:56:50:INFO] Determined delimiter of CSV input is ','\u001b[0m\n",
      "\u001b[32m[2019-10-15:22:56:50:INFO] Determined delimiter of CSV input is ','\u001b[0m\n",
      "\u001b[32m[2019-10-15:22:56:50:INFO] Sniff delimiter as ','\u001b[0m\n",
      "\u001b[32m[2019-10-15:22:56:50:INFO] Determined delimiter of CSV input is ','\u001b[0m\n",
      "\u001b[32m[2019-10-15:22:56:50:INFO] Sniff delimiter as ','\u001b[0m\n",
      "\u001b[32m[2019-10-15:22:56:50:INFO] Determined delimiter of CSV input is ','\u001b[0m\n",
      "\u001b[32m[2019-10-15:22:56:50:INFO] Sniff delimiter as ','\u001b[0m\n",
      "\u001b[32m[2019-10-15:22:56:50:INFO] Determined delimiter of CSV input is ','\u001b[0m\n",
      "\u001b[31m[2019-10-15:22:56:53:INFO] Determined delimiter of CSV input is ','\u001b[0m\n",
      "\u001b[32m[2019-10-15:22:56:53:INFO] Determined delimiter of CSV input is ','\u001b[0m\n",
      "\u001b[31m[2019-10-15:22:56:54:INFO] Sniff delimiter as ','\u001b[0m\n",
      "\u001b[31m[2019-10-15:22:56:54:INFO] Determined delimiter of CSV input is ','\u001b[0m\n",
      "\u001b[32m[2019-10-15:22:56:54:INFO] Sniff delimiter as ','\u001b[0m\n",
      "\u001b[32m[2019-10-15:22:56:54:INFO] Determined delimiter of CSV input is ','\u001b[0m\n",
      "\u001b[31m[2019-10-15:22:56:55:INFO] Sniff delimiter as ','\u001b[0m\n",
      "\u001b[31m[2019-10-15:22:56:55:INFO] Determined delimiter of CSV input is ','\u001b[0m\n",
      "\u001b[31m[2019-10-15:22:56:55:INFO] Sniff delimiter as ','\u001b[0m\n",
      "\u001b[31m[2019-10-15:22:56:55:INFO] Determined delimiter of CSV input is ','\u001b[0m\n",
      "\u001b[31m[2019-10-15:22:56:55:INFO] Sniff delimiter as ','\u001b[0m\n",
      "\u001b[31m[2019-10-15:22:56:55:INFO] Determined delimiter of CSV input is ','\u001b[0m\n",
      "\u001b[32m[2019-10-15:22:56:55:INFO] Sniff delimiter as ','\u001b[0m\n",
      "\u001b[32m[2019-10-15:22:56:55:INFO] Determined delimiter of CSV input is ','\u001b[0m\n",
      "\u001b[32m[2019-10-15:22:56:55:INFO] Sniff delimiter as ','\u001b[0m\n",
      "\u001b[32m[2019-10-15:22:56:55:INFO] Determined delimiter of CSV input is ','\u001b[0m\n",
      "\u001b[32m[2019-10-15:22:56:55:INFO] Sniff delimiter as ','\u001b[0m\n",
      "\u001b[32m[2019-10-15:22:56:55:INFO] Determined delimiter of CSV input is ','\u001b[0m\n",
      "\u001b[31m[2019-10-15:22:56:57:INFO] Sniff delimiter as ','\u001b[0m\n",
      "\u001b[31m[2019-10-15:22:56:57:INFO] Determined delimiter of CSV input is ','\u001b[0m\n",
      "\u001b[31m[2019-10-15:22:56:57:INFO] Sniff delimiter as ','\u001b[0m\n",
      "\u001b[31m[2019-10-15:22:56:57:INFO] Determined delimiter of CSV input is ','\u001b[0m\n",
      "\u001b[31m[2019-10-15:22:56:57:INFO] Sniff delimiter as ','\u001b[0m\n",
      "\u001b[31m[2019-10-15:22:56:57:INFO] Determined delimiter of CSV input is ','\u001b[0m\n",
      "\u001b[31m[2019-10-15:22:56:57:INFO] Sniff delimiter as ','\u001b[0m\n",
      "\u001b[31m[2019-10-15:22:56:57:INFO] Determined delimiter of CSV input is ','\u001b[0m\n",
      "\u001b[32m[2019-10-15:22:56:57:INFO] Sniff delimiter as ','\u001b[0m\n",
      "\u001b[32m[2019-10-15:22:56:57:INFO] Determined delimiter of CSV input is ','\u001b[0m\n",
      "\u001b[32m[2019-10-15:22:56:57:INFO] Sniff delimiter as ','\u001b[0m\n",
      "\u001b[32m[2019-10-15:22:56:57:INFO] Determined delimiter of CSV input is ','\u001b[0m\n",
      "\u001b[32m[2019-10-15:22:56:57:INFO] Sniff delimiter as ','\u001b[0m\n",
      "\u001b[32m[2019-10-15:22:56:57:INFO] Determined delimiter of CSV input is ','\u001b[0m\n",
      "\u001b[32m[2019-10-15:22:56:57:INFO] Sniff delimiter as ','\u001b[0m\n",
      "\u001b[32m[2019-10-15:22:56:57:INFO] Determined delimiter of CSV input is ','\u001b[0m\n",
      "\u001b[31m[2019-10-15:22:56:59:INFO] Sniff delimiter as ','\u001b[0m\n",
      "\u001b[31m[2019-10-15:22:56:59:INFO] Determined delimiter of CSV input is ','\u001b[0m\n",
      "\u001b[31m[2019-10-15:22:56:59:INFO] Sniff delimiter as ','\u001b[0m\n",
      "\u001b[31m[2019-10-15:22:56:59:INFO] Determined delimiter of CSV input is ','\u001b[0m\n",
      "\u001b[31m[2019-10-15:22:56:59:INFO] Sniff delimiter as ','\u001b[0m\n",
      "\u001b[31m[2019-10-15:22:56:59:INFO] Determined delimiter of CSV input is ','\u001b[0m\n",
      "\u001b[32m[2019-10-15:22:56:59:INFO] Sniff delimiter as ','\u001b[0m\n",
      "\u001b[32m[2019-10-15:22:56:59:INFO] Determined delimiter of CSV input is ','\u001b[0m\n",
      "\u001b[32m[2019-10-15:22:56:59:INFO] Sniff delimiter as ','\u001b[0m\n",
      "\u001b[32m[2019-10-15:22:56:59:INFO] Determined delimiter of CSV input is ','\u001b[0m\n",
      "\u001b[32m[2019-10-15:22:56:59:INFO] Sniff delimiter as ','\u001b[0m\n",
      "\u001b[32m[2019-10-15:22:56:59:INFO] Determined delimiter of CSV input is ','\u001b[0m\n",
      "\u001b[31m[2019-10-15:22:57:00:INFO] Sniff delimiter as ','\u001b[0m\n",
      "\u001b[31m[2019-10-15:22:57:00:INFO] Determined delimiter of CSV input is ','\u001b[0m\n",
      "\u001b[32m[2019-10-15:22:57:00:INFO] Sniff delimiter as ','\u001b[0m\n",
      "\u001b[32m[2019-10-15:22:57:00:INFO] Determined delimiter of CSV input is ','\u001b[0m\n",
      "\u001b[31m[2019-10-15:22:57:01:INFO] Sniff delimiter as ','\u001b[0m\n",
      "\u001b[31m[2019-10-15:22:57:01:INFO] Determined delimiter of CSV input is ','\u001b[0m\n",
      "\u001b[32m[2019-10-15:22:57:01:INFO] Sniff delimiter as ','\u001b[0m\n",
      "\u001b[32m[2019-10-15:22:57:01:INFO] Determined delimiter of CSV input is ','\u001b[0m\n"
     ]
    },
    {
     "name": "stdout",
     "output_type": "stream",
     "text": [
      "\u001b[31m[2019-10-15:22:57:02:INFO] Sniff delimiter as ','\u001b[0m\n",
      "\u001b[31m[2019-10-15:22:57:02:INFO] Determined delimiter of CSV input is ','\u001b[0m\n",
      "\u001b[31m[2019-10-15:22:57:02:INFO] Sniff delimiter as ','\u001b[0m\n",
      "\u001b[31m[2019-10-15:22:57:02:INFO] Determined delimiter of CSV input is ','\u001b[0m\n",
      "\u001b[32m[2019-10-15:22:57:02:INFO] Sniff delimiter as ','\u001b[0m\n",
      "\u001b[32m[2019-10-15:22:57:02:INFO] Determined delimiter of CSV input is ','\u001b[0m\n",
      "\u001b[32m[2019-10-15:22:57:02:INFO] Sniff delimiter as ','\u001b[0m\n",
      "\u001b[32m[2019-10-15:22:57:02:INFO] Determined delimiter of CSV input is ','\u001b[0m\n",
      "\u001b[31m[2019-10-15:22:57:04:INFO] Sniff delimiter as ','\u001b[0m\n",
      "\u001b[31m[2019-10-15:22:57:04:INFO] Determined delimiter of CSV input is ','\u001b[0m\n",
      "\u001b[31m[2019-10-15:22:57:04:INFO] Sniff delimiter as ','\u001b[0m\n",
      "\u001b[31m[2019-10-15:22:57:04:INFO] Determined delimiter of CSV input is ','\u001b[0m\n",
      "\u001b[31m[2019-10-15:22:57:04:INFO] Sniff delimiter as ','\u001b[0m\n",
      "\u001b[31m[2019-10-15:22:57:04:INFO] Determined delimiter of CSV input is ','\u001b[0m\n",
      "\u001b[32m[2019-10-15:22:57:04:INFO] Sniff delimiter as ','\u001b[0m\n",
      "\u001b[32m[2019-10-15:22:57:04:INFO] Determined delimiter of CSV input is ','\u001b[0m\n",
      "\u001b[32m[2019-10-15:22:57:04:INFO] Sniff delimiter as ','\u001b[0m\n",
      "\u001b[32m[2019-10-15:22:57:04:INFO] Determined delimiter of CSV input is ','\u001b[0m\n",
      "\u001b[32m[2019-10-15:22:57:04:INFO] Sniff delimiter as ','\u001b[0m\n",
      "\u001b[32m[2019-10-15:22:57:04:INFO] Determined delimiter of CSV input is ','\u001b[0m\n",
      "\u001b[31m[2019-10-15:22:57:04:INFO] Sniff delimiter as ','\u001b[0m\n",
      "\u001b[31m[2019-10-15:22:57:04:INFO] Determined delimiter of CSV input is ','\u001b[0m\n",
      "\u001b[32m[2019-10-15:22:57:04:INFO] Sniff delimiter as ','\u001b[0m\n",
      "\u001b[32m[2019-10-15:22:57:04:INFO] Determined delimiter of CSV input is ','\u001b[0m\n",
      "\n"
     ]
    }
   ],
   "source": [
    "xgb_transformer.wait()"
   ]
  },
  {
   "cell_type": "markdown",
   "metadata": {},
   "source": [
    "Now the transform job has executed and the result, the estimated sentiment of each review, has been saved on S3. Since we would rather work on this file locally we can perform a bit of notebook magic to copy the file to the `data_dir`."
   ]
  },
  {
   "cell_type": "code",
   "execution_count": 47,
   "metadata": {},
   "outputs": [
    {
     "name": "stdout",
     "output_type": "stream",
     "text": [
      "                        test_X: 953.7 MiB\n",
      "                    vocabulary:  2.5 MiB\n",
      "                        test_y: 195.4 KiB\n",
      "                          _i11:  2.5 KiB\n",
      "                           _i9:  2.0 KiB\n",
      "                 BeautifulSoup:  2.0 KiB\n",
      "               CountVectorizer:  1.4 KiB\n",
      "           HyperparameterTuner:  1.4 KiB\n",
      "                           _i2:  1.1 KiB\n",
      "                      StemmerI:  1.0 KiB\n"
     ]
    }
   ],
   "source": [
    "import sys\n",
    "def sizeof_fmt(num, suffix='B'):\n",
    "    ''' by Fred Cirera,  https://stackoverflow.com/a/1094933/1870254, modified'''\n",
    "    for unit in ['','Ki','Mi','Gi','Ti','Pi','Ei','Zi']:\n",
    "        if abs(num) < 1024.0:\n",
    "            return \"%3.1f %s%s\" % (num, unit, suffix)\n",
    "        num /= 1024.0\n",
    "    return \"%.1f %s%s\" % (num, 'Yi', suffix)\n",
    "\n",
    "for name, size in sorted(((name, sys.getsizeof(value)) for name, value in locals().items()),\n",
    "                         key= lambda x: -x[1])[:10]:\n",
    "    print(\"{:>30}: {:>8}\".format(name, sizeof_fmt(size)))"
   ]
  },
  {
   "cell_type": "code",
   "execution_count": 49,
   "metadata": {},
   "outputs": [
    {
     "name": "stdout",
     "output_type": "stream",
     "text": [
      "Completed 256.0 KiB/374.2 KiB (2.2 MiB/s) with 1 file(s) remaining\r",
      "Completed 374.2 KiB/374.2 KiB (3.2 MiB/s) with 1 file(s) remaining\r",
      "download: s3://sagemaker-us-east-1-651156768626/xgboost-191015-2205-005-0ee6a6f2-2019-10-15-22-52-55-145/test.csv.out to ../data/xgboost/test.csv.out\r\n"
     ]
    }
   ],
   "source": [
    "!aws s3 cp --recursive $xgb_transformer.output_path $data_dir"
   ]
  },
  {
   "cell_type": "markdown",
   "metadata": {},
   "source": [
    "The last step is now to read in the output from our model, convert the output to something a little more usable, in this case we want the sentiment to be either `1` (positive) or `0` (negative), and then compare to the ground truth labels."
   ]
  },
  {
   "cell_type": "code",
   "execution_count": 50,
   "metadata": {},
   "outputs": [],
   "source": [
    "predictions = pd.read_csv(os.path.join(data_dir, 'test.csv.out'), header=None)\n",
    "predictions = [round(num) for num in predictions.squeeze().values]"
   ]
  },
  {
   "cell_type": "code",
   "execution_count": 51,
   "metadata": {},
   "outputs": [
    {
     "data": {
      "text/plain": [
       "0.86016"
      ]
     },
     "execution_count": 51,
     "metadata": {},
     "output_type": "execute_result"
    }
   ],
   "source": [
    "from sklearn.metrics import accuracy_score\n",
    "accuracy_score(test_y, predictions)"
   ]
  },
  {
   "cell_type": "markdown",
   "metadata": {},
   "source": [
    "## Optional: Clean up\n",
    "\n",
    "The default notebook instance on SageMaker doesn't have a lot of excess disk space available. As you continue to complete and execute notebooks you will eventually fill up this disk space, leading to errors which can be difficult to diagnose. Once you are completely finished using a notebook it is a good idea to remove the files that you created along the way. Of course, you can do this from the terminal or from the notebook hub if you would like. The cell below contains some commands to clean up the created files from within the notebook."
   ]
  },
  {
   "cell_type": "code",
   "execution_count": 52,
   "metadata": {},
   "outputs": [],
   "source": [
    "# First we will remove all of the files contained in the data_dir directory\n",
    "!rm $data_dir/*\n",
    "\n",
    "# And then we delete the directory itself\n",
    "!rmdir $data_dir\n",
    "\n",
    "# # Similarly we will remove the files in the cache_dir directory and the directory itself\n",
    "!rm $cache_dir/*\n",
    "!rmdir $cache_dir"
   ]
  },
  {
   "cell_type": "code",
   "execution_count": null,
   "metadata": {},
   "outputs": [],
   "source": []
  }
 ],
 "metadata": {
  "kernelspec": {
   "display_name": "conda_python3",
   "language": "python",
   "name": "conda_python3"
  },
  "language_info": {
   "codemirror_mode": {
    "name": "ipython",
    "version": 3
   },
   "file_extension": ".py",
   "mimetype": "text/x-python",
   "name": "python",
   "nbconvert_exporter": "python",
   "pygments_lexer": "ipython3",
   "version": "3.6.5"
  }
 },
 "nbformat": 4,
 "nbformat_minor": 2
}
